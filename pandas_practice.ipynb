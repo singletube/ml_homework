{
 "cells": [
  {
   "cell_type": "markdown",
   "metadata": {
    "pycharm": {
     "name": "#%% md\n"
    }
   },
   "source": [
    "## Deep Pandas Fantasies\n",
    "## Практическое домашнее задание по Pandas\n",
    "(Оригинальный ресурс был достопочтенно заимствован из открытого гитхаба Евгения Соколова, дополнен, транспонирован, ортонормирован и ещё всячески изменен для более мягенького вхождения в наше прекрасное болото под названием дата саенс)\n",
    "\n",
    "Евгений Соколов - препод ВШЭ по Машинному обучению, и у него суперкрутые лекции на ютубчике в открытом доступе, оч рекомендую посмотреть на досуге."
   ]
  },
  {
   "cell_type": "markdown",
   "metadata": {
    "pycharm": {
     "name": "#%% md\n"
    }
   },
   "source": [
    "<img src=\"https://media1.tenor.com/images/9b8fbe9214504bcf6c60fe4e4f7e114e/tenor.gif?itemid=5416416\" style=\"width: 400px\">\n"
   ]
  },
  {
   "cell_type": "markdown",
   "metadata": {
    "pycharm": {
     "name": "#%% md\n"
    }
   },
   "source": [
    "Удачи!\n",
    "\n",
    "<img src=\"https://c.tenor.com/RIwbR2Wf1zMAAAAC/alien-dance.gif\" style=\"width: 100px\">"
   ]
  },
  {
   "cell_type": "markdown",
   "metadata": {
    "pycharm": {
     "name": "#%% md\n"
    }
   },
   "source": [
    "## 1. Табличные данные и Pandas"
   ]
  },
  {
   "cell_type": "markdown",
   "metadata": {
    "pycharm": {
     "name": "#%% md\n"
    }
   },
   "source": [
    "Pandas — удобная библиотека для работы с табличными данными в Python, если данных не слишком много и они помещаются в оперативную память вашего компьютера. Несмотря на неэффективность реализации и некоторые проблемы, библиотека стала стандартом в анализе данных.\n",
    "\n",
    "Основной объект в pandas — это DataFrame, представляющий собой таблицу с именованными колонками различных типов, индексом (может быть многоуровневым). DataFrame можно создавать, считывая таблицу из файла или задавая вручную из других объектов.\n",
    "\n",
    "В этой части потребуется выполнить несколько небольших заданий. Можно пойти двумя путями: сначала изучить материалы, а потом приступить к заданиям, или же разбираться \"по ходу\". Выбирайте сами.\n",
    "\n",
    "Материалы:\n",
    "1. [Pandas за 10 минут из официального руководства](http://pandas.pydata.org/pandas-docs/stable/10min.html)\n",
    "2. [Документация](http://pandas.pydata.org/pandas-docs/stable/index.html) (стоит обращаться, если не понятно, как вызывать конкретный метод)\n",
    "3. [Примеры использования функционала](http://nbviewer.jupyter.org/github/justmarkham/pandas-videos/blob/master/pandas.ipynb)\n",
    "\n",
    "Многие из заданий можно выполнить несколькими способами. Не существуют единственно верного, но попробуйте максимально задействовать арсенал pandas и ориентируйтесь на простоту и понятность вашего кода. Мы не будем подсказывать, что нужно использовать для решения конкретной задачи, попробуйте находить необходимый функционал сами (название метода чаще всего очевидно). В помощь вам документация, поиск и stackoverflow."
   ]
  },
  {
   "cell_type": "markdown",
   "metadata": {
    "pycharm": {
     "name": "#%% md\n"
    }
   },
   "source": [
    "Скачаем данные (это если у тебя есть утилита wget, или же ты на linux):"
   ]
  },
  {
   "cell_type": "code",
   "execution_count": 3,
   "metadata": {
    "pycharm": {
     "name": "#%%\n"
    }
   },
   "outputs": [
    {
     "name": "stderr",
     "output_type": "stream",
     "text": [
      "\"wget\" ­Ґ пў«пҐвбп ў­гваҐ­­Ґ© Ё«Ё ў­Ґи­Ґ©\n",
      "Є®¬ ­¤®©, ЁбЇ®«­пҐ¬®© Їа®Ја ¬¬®© Ё«Ё Ї ЄҐв­л¬ д ©«®¬.\n"
     ]
    }
   ],
   "source": [
    "!wget  -O 'end_seminar.xlsx' -q 'https://www.dropbox.com/s/f4rm8sjc3v99p0m/_end_seminar.xlsx?dl=0'"
   ]
  },
  {
   "cell_type": "markdown",
   "metadata": {
    "pycharm": {
     "name": "#%% md\n"
    }
   },
   "source": [
    "Для пользователей Windows: скачайте файл самостоятельно и поместите его в папку с тетрадкой. Или попробуйте один из следующих вариантов:"
   ]
  },
  {
   "cell_type": "code",
   "execution_count": 4,
   "metadata": {
    "pycharm": {
     "name": "#%%\n"
    }
   },
   "outputs": [],
   "source": [
    "# !powershell iwr -outf somefile https://somesite/somefile"
   ]
  },
  {
   "cell_type": "code",
   "execution_count": 5,
   "metadata": {
    "pycharm": {
     "name": "#%%\n"
    }
   },
   "outputs": [],
   "source": [
    "# !pip install wget\n",
    "# import wget \n",
    "# wget.download('https://dropbox.com/s/f4rm8sjc3v99p0m/_end_seminar.xlsx?dl=1', 'end_seminar.xlsx')"
   ]
  },
  {
   "cell_type": "markdown",
   "metadata": {
    "pycharm": {
     "name": "#%% md\n"
    }
   },
   "source": [
    "##### Кстати, убедительная просьба не использовать явно циклы (for loop, while и т.д.). Ограничение делается как раз для того, чтобы помочь тебе проникнуться удобностью, востребованностью и качеством функций pandas, которые позволяют сократить затрачиваемое время на написание каких-то преобразований. Допускается использование list и dict comprehension, так как они работают быстрее, чем циклы."
   ]
  },
  {
   "cell_type": "markdown",
   "metadata": {
    "pycharm": {
     "name": "#%% md\n"
    }
   },
   "source": [
    "Для каждой задачи и вопроса из этого раздела напиши код для получения ответа, а также попробуй дать текстовый ответ, если он предполагается.\n",
    "\n",
    "На некоторые вопросы ты можешь получить ответ путём пристального взгляда на таблицу, но это не прикольно. Постарайся получить ответ с помощью кода. Если же будут какие-то проблемы с этим - вместе разберемся на занятии)"
   ]
  },
  {
   "cell_type": "markdown",
   "metadata": {
    "pycharm": {
     "name": "#%% md\n"
    }
   },
   "source": [
    "#### 1. Открой файл с таблицей (не забудь про её формат). Выведи последние 10 строк.\n",
    "\n",
    "Посмотри на данные и скажи, что они из себя представляют, сколько в таблице строк, какие столбцы? Можешь на этот вопрос ответ не писать кодом, достаточно хотя бы подумать об этом. Но и написать кодец тоже никто не запрещает :)"
   ]
  },
  {
   "cell_type": "code",
   "execution_count": 6,
   "metadata": {
    "pycharm": {
     "name": "#%%\n"
    }
   },
   "outputs": [],
   "source": [
    "import pandas as pd\n",
    "# возможно пригодится\n",
    "import numpy as np"
   ]
  },
  {
   "cell_type": "code",
   "execution_count": 7,
   "metadata": {
    "pycharm": {
     "name": "#%%\n"
    }
   },
   "outputs": [
    {
     "data": {
      "text/plain": "Index(['timestamp', 'id', 'rating', '18_group', 'is_mi', 'fall_1', 'fall_2',\n       'fall_3', 'spring_1', 'spring_2', 'spring_3', 'is_first_time',\n       'percentile', '17_group', 'blended', 'is_ml_student'],\n      dtype='object')"
     },
     "execution_count": 7,
     "metadata": {},
     "output_type": "execute_result"
    }
   ],
   "source": [
    "a = pd.read_excel(\"_end_seminar.xlsx\")\n",
    "a.tail(n=100)\n",
    "a.index\n",
    "a.columns\n"
   ]
  },
  {
   "cell_type": "markdown",
   "metadata": {
    "pycharm": {
     "name": "#%% md\n"
    }
   },
   "source": [
    "#### 2. Ответь на вопросы:\n",
    "1. Сколько было заявок из групп 18-го года набора, а сколько из групп 17-го года?\n",
    "2. Есть ли студенты с равными перцентилями?"
   ]
  },
  {
   "cell_type": "code",
   "execution_count": 8,
   "metadata": {
    "pycharm": {
     "name": "#%%\n"
    }
   },
   "outputs": [
    {
     "name": "stdout",
     "output_type": "stream",
     "text": [
      "138 223\n",
      "False\n"
     ]
    }
   ],
   "source": [
    "print(a[\"17_group\"].dropna().size, a[\"18_group\"].dropna().size)\n",
    "print(a.size == a.percentile.drop_duplicates().size) #Да?"
   ]
  },
  {
   "cell_type": "markdown",
   "metadata": {
    "pycharm": {
     "name": "#%% md\n"
    }
   },
   "source": [
    "#### 3. Есть ли в данных пропуски? В каких колонках? Сколько их в каждой из этих колонок?"
   ]
  },
  {
   "cell_type": "code",
   "execution_count": 9,
   "metadata": {
    "pycharm": {
     "name": "#%%\n"
    }
   },
   "outputs": [
    {
     "name": "stdout",
     "output_type": "stream",
     "text": [
      "timestamp 0\n",
      "id 0\n",
      "rating 0\n",
      "18_group 138\n",
      "is_mi 343\n",
      "fall_1 0\n",
      "fall_2 0\n",
      "fall_3 0\n",
      "spring_1 0\n",
      "spring_2 0\n",
      "spring_3 0\n",
      "is_first_time 2\n",
      "percentile 0\n",
      "17_group 223\n",
      "blended 223\n",
      "is_ml_student 304\n"
     ]
    }
   ],
   "source": [
    "for key in a.columns:\n",
    "    print(key, a[key].size - a[key].dropna().size)\n",
    "\n"
   ]
  },
  {
   "cell_type": "markdown",
   "metadata": {
    "pycharm": {
     "name": "#%% md\n"
    }
   },
   "source": [
    "Заполни пропуски пустой строкой для строковых колонок и нулём для числовых."
   ]
  },
  {
   "cell_type": "code",
   "execution_count": 32,
   "metadata": {
    "pycharm": {
     "name": "#%%\n"
    }
   },
   "outputs": [
    {
     "data": {
      "text/plain": "                  timestamp                                id  rating  \\\n0   2020-05-15 01:12:50.543  93ff79a51cd602f1dd3028ba2c129503     698   \n1   2020-05-15 02:46:48.066  26b01b1c4cd5656bab18d24c548834fb     647   \n2   2020-05-15 03:12:41.480  30f3653fc176d54e89ac3179c455c6dd     624   \n3   2020-05-15 04:43:08.994  1528f0eaa027580820ccf0d92a53ad68     579   \n4   2020-05-15 07:47:17.197  496ea4f0d4abe264b1bb1b80eb3830c5     572   \n..                      ...                               ...     ...   \n356 2020-05-19 19:04:17.873  c5870b37ee3f672e4259dfb2fc02ed8f    1029   \n357 2020-05-19 20:19:25.815  f44aea1095f9f5b8e2f5f0ed2b17891b    1060   \n358 2020-05-20 11:54:38.318  d7118b44c7e8fdbbaaca226d2da6fef1    1111   \n359 2020-05-23 21:16:40.916  79d14db48e4737af731960ae212d5134     966   \n360 2020-05-23 21:16:40.916  f2d210ace25a841e1e58036b257d5d47    1195   \n\n     18_group  is_mi                                           fall_1  \\\n0       181.0    0.0                                         Язык SQL   \n1       181.0    0.0                Высокопроизводительные вычисления   \n2       185.0    0.0                 Безопасность компьютерных систем   \n3       182.0    0.0                      Statistical Learning Theory   \n4       183.0    0.0                Высокопроизводительные вычисления   \n..        ...    ...                                              ...   \n356       0.0    0.0                      Statistical Learning Theory   \n357       0.0    0.0                Анализ неструктурированных данных   \n358       0.0    0.0  Сбор и обработка данных с помощью краудсорсинга   \n359       0.0    0.0                 Безопасность компьютерных систем   \n360       0.0    0.0                Анализ неструктурированных данных   \n\n                                                fall_2  \\\n0                    Высокопроизводительные вычисления   \n1                     Безопасность компьютерных систем   \n2                                 Матричные вычисления   \n3                    Высокопроизводительные вычисления   \n4                     Безопасность компьютерных систем   \n..                                                 ...   \n356                  Анализ неструктурированных данных   \n357                  Высокопроизводительные вычисления   \n358                        Statistical Learning Theory   \n359  Принятие решений в условиях риска и неопределё...   \n360                      Моделирование временных рядов   \n\n                                              fall_3  \\\n0                               Матричные вычисления   \n1                                           Язык SQL   \n2                      Моделирование временных рядов   \n3                               Матричные вычисления   \n4                                  Теория баз данных   \n..                                               ...   \n356  Сбор и обработка данных с помощью краудсорсинга   \n357                    Моделирование временных рядов   \n358                Анализ неструктурированных данных   \n359                Анализ неструктурированных данных   \n360                Высокопроизводительные вычисления   \n\n                                              spring_1  \\\n0                               Дискретная оптимизация   \n1                               Дискретная оптимизация   \n2                               Дискретная оптимизация   \n3                               Дискретная оптимизация   \n4                                    Компьютерные сети   \n..                                                 ...   \n356                           Обучение с подкреплением   \n357                             Конфликты и кооперация   \n358  Проектирование и разработка высоконагруженных ...   \n359  Проектирование и разработка высоконагруженных ...   \n360                           Обучение с подкреплением   \n\n                                 spring_2  \\\n0                        Численные методы   \n1                        Численные методы   \n2                     Машинное обучение 2   \n3                        Численные методы   \n4                  Дискретная оптимизация   \n..                                    ...   \n356                Конфликты и кооперация   \n357              Обучение с подкреплением   \n358  Методы сжатия и передачи медиаданных   \n359  Методы сжатия и передачи медиаданных   \n360                   Компьютерное зрение   \n\n                                 spring_3 is_first_time  percentile  17_group  \\\n0                     Машинное обучение 2            Да    0.183857       0.0   \n1                     Машинное обучение 2           Нет    0.426009       0.0   \n2                        Численные методы            Да    0.538117       0.0   \n3                     Машинное обучение 2            Да    0.744395       0.0   \n4                        Численные методы            Да    0.780269       0.0   \n..                                    ...           ...         ...       ...   \n356                   Компьютерное зрение            Да    0.920290     174.0   \n357                      Численные методы            Да    0.840580     174.0   \n358                      Численные методы            Да    0.652174     173.0   \n359                   Компьютерное зрение            Да    0.985507     172.0   \n360  Методы сжатия и передачи медиаданных                  0.369565     176.0   \n\n                            blended  is_ml_student  \n0                                              0.0  \n1                                              0.0  \n2                                              0.0  \n3                                              0.0  \n4                                              0.0  \n..                              ...            ...  \n356                          DevOps            0.0  \n357                          DevOps            0.0  \n358  Соревновательный анализ данных            0.0  \n359                          DevOps            0.0  \n360  Соревновательный анализ данных            0.0  \n\n[361 rows x 16 columns]",
      "text/html": "<div>\n<style scoped>\n    .dataframe tbody tr th:only-of-type {\n        vertical-align: middle;\n    }\n\n    .dataframe tbody tr th {\n        vertical-align: top;\n    }\n\n    .dataframe thead th {\n        text-align: right;\n    }\n</style>\n<table border=\"1\" class=\"dataframe\">\n  <thead>\n    <tr style=\"text-align: right;\">\n      <th></th>\n      <th>timestamp</th>\n      <th>id</th>\n      <th>rating</th>\n      <th>18_group</th>\n      <th>is_mi</th>\n      <th>fall_1</th>\n      <th>fall_2</th>\n      <th>fall_3</th>\n      <th>spring_1</th>\n      <th>spring_2</th>\n      <th>spring_3</th>\n      <th>is_first_time</th>\n      <th>percentile</th>\n      <th>17_group</th>\n      <th>blended</th>\n      <th>is_ml_student</th>\n    </tr>\n  </thead>\n  <tbody>\n    <tr>\n      <th>0</th>\n      <td>2020-05-15 01:12:50.543</td>\n      <td>93ff79a51cd602f1dd3028ba2c129503</td>\n      <td>698</td>\n      <td>181.0</td>\n      <td>0.0</td>\n      <td>Язык SQL</td>\n      <td>Высокопроизводительные вычисления</td>\n      <td>Матричные вычисления</td>\n      <td>Дискретная оптимизация</td>\n      <td>Численные методы</td>\n      <td>Машинное обучение 2</td>\n      <td>Да</td>\n      <td>0.183857</td>\n      <td>0.0</td>\n      <td></td>\n      <td>0.0</td>\n    </tr>\n    <tr>\n      <th>1</th>\n      <td>2020-05-15 02:46:48.066</td>\n      <td>26b01b1c4cd5656bab18d24c548834fb</td>\n      <td>647</td>\n      <td>181.0</td>\n      <td>0.0</td>\n      <td>Высокопроизводительные вычисления</td>\n      <td>Безопасность компьютерных систем</td>\n      <td>Язык SQL</td>\n      <td>Дискретная оптимизация</td>\n      <td>Численные методы</td>\n      <td>Машинное обучение 2</td>\n      <td>Нет</td>\n      <td>0.426009</td>\n      <td>0.0</td>\n      <td></td>\n      <td>0.0</td>\n    </tr>\n    <tr>\n      <th>2</th>\n      <td>2020-05-15 03:12:41.480</td>\n      <td>30f3653fc176d54e89ac3179c455c6dd</td>\n      <td>624</td>\n      <td>185.0</td>\n      <td>0.0</td>\n      <td>Безопасность компьютерных систем</td>\n      <td>Матричные вычисления</td>\n      <td>Моделирование временных рядов</td>\n      <td>Дискретная оптимизация</td>\n      <td>Машинное обучение 2</td>\n      <td>Численные методы</td>\n      <td>Да</td>\n      <td>0.538117</td>\n      <td>0.0</td>\n      <td></td>\n      <td>0.0</td>\n    </tr>\n    <tr>\n      <th>3</th>\n      <td>2020-05-15 04:43:08.994</td>\n      <td>1528f0eaa027580820ccf0d92a53ad68</td>\n      <td>579</td>\n      <td>182.0</td>\n      <td>0.0</td>\n      <td>Statistical Learning Theory</td>\n      <td>Высокопроизводительные вычисления</td>\n      <td>Матричные вычисления</td>\n      <td>Дискретная оптимизация</td>\n      <td>Численные методы</td>\n      <td>Машинное обучение 2</td>\n      <td>Да</td>\n      <td>0.744395</td>\n      <td>0.0</td>\n      <td></td>\n      <td>0.0</td>\n    </tr>\n    <tr>\n      <th>4</th>\n      <td>2020-05-15 07:47:17.197</td>\n      <td>496ea4f0d4abe264b1bb1b80eb3830c5</td>\n      <td>572</td>\n      <td>183.0</td>\n      <td>0.0</td>\n      <td>Высокопроизводительные вычисления</td>\n      <td>Безопасность компьютерных систем</td>\n      <td>Теория баз данных</td>\n      <td>Компьютерные сети</td>\n      <td>Дискретная оптимизация</td>\n      <td>Численные методы</td>\n      <td>Да</td>\n      <td>0.780269</td>\n      <td>0.0</td>\n      <td></td>\n      <td>0.0</td>\n    </tr>\n    <tr>\n      <th>...</th>\n      <td>...</td>\n      <td>...</td>\n      <td>...</td>\n      <td>...</td>\n      <td>...</td>\n      <td>...</td>\n      <td>...</td>\n      <td>...</td>\n      <td>...</td>\n      <td>...</td>\n      <td>...</td>\n      <td>...</td>\n      <td>...</td>\n      <td>...</td>\n      <td>...</td>\n      <td>...</td>\n    </tr>\n    <tr>\n      <th>356</th>\n      <td>2020-05-19 19:04:17.873</td>\n      <td>c5870b37ee3f672e4259dfb2fc02ed8f</td>\n      <td>1029</td>\n      <td>0.0</td>\n      <td>0.0</td>\n      <td>Statistical Learning Theory</td>\n      <td>Анализ неструктурированных данных</td>\n      <td>Сбор и обработка данных с помощью краудсорсинга</td>\n      <td>Обучение с подкреплением</td>\n      <td>Конфликты и кооперация</td>\n      <td>Компьютерное зрение</td>\n      <td>Да</td>\n      <td>0.920290</td>\n      <td>174.0</td>\n      <td>DevOps</td>\n      <td>0.0</td>\n    </tr>\n    <tr>\n      <th>357</th>\n      <td>2020-05-19 20:19:25.815</td>\n      <td>f44aea1095f9f5b8e2f5f0ed2b17891b</td>\n      <td>1060</td>\n      <td>0.0</td>\n      <td>0.0</td>\n      <td>Анализ неструктурированных данных</td>\n      <td>Высокопроизводительные вычисления</td>\n      <td>Моделирование временных рядов</td>\n      <td>Конфликты и кооперация</td>\n      <td>Обучение с подкреплением</td>\n      <td>Численные методы</td>\n      <td>Да</td>\n      <td>0.840580</td>\n      <td>174.0</td>\n      <td>DevOps</td>\n      <td>0.0</td>\n    </tr>\n    <tr>\n      <th>358</th>\n      <td>2020-05-20 11:54:38.318</td>\n      <td>d7118b44c7e8fdbbaaca226d2da6fef1</td>\n      <td>1111</td>\n      <td>0.0</td>\n      <td>0.0</td>\n      <td>Сбор и обработка данных с помощью краудсорсинга</td>\n      <td>Statistical Learning Theory</td>\n      <td>Анализ неструктурированных данных</td>\n      <td>Проектирование и разработка высоконагруженных ...</td>\n      <td>Методы сжатия и передачи медиаданных</td>\n      <td>Численные методы</td>\n      <td>Да</td>\n      <td>0.652174</td>\n      <td>173.0</td>\n      <td>Соревновательный анализ данных</td>\n      <td>0.0</td>\n    </tr>\n    <tr>\n      <th>359</th>\n      <td>2020-05-23 21:16:40.916</td>\n      <td>79d14db48e4737af731960ae212d5134</td>\n      <td>966</td>\n      <td>0.0</td>\n      <td>0.0</td>\n      <td>Безопасность компьютерных систем</td>\n      <td>Принятие решений в условиях риска и неопределё...</td>\n      <td>Анализ неструктурированных данных</td>\n      <td>Проектирование и разработка высоконагруженных ...</td>\n      <td>Методы сжатия и передачи медиаданных</td>\n      <td>Компьютерное зрение</td>\n      <td>Да</td>\n      <td>0.985507</td>\n      <td>172.0</td>\n      <td>DevOps</td>\n      <td>0.0</td>\n    </tr>\n    <tr>\n      <th>360</th>\n      <td>2020-05-23 21:16:40.916</td>\n      <td>f2d210ace25a841e1e58036b257d5d47</td>\n      <td>1195</td>\n      <td>0.0</td>\n      <td>0.0</td>\n      <td>Анализ неструктурированных данных</td>\n      <td>Моделирование временных рядов</td>\n      <td>Высокопроизводительные вычисления</td>\n      <td>Обучение с подкреплением</td>\n      <td>Компьютерное зрение</td>\n      <td>Методы сжатия и передачи медиаданных</td>\n      <td></td>\n      <td>0.369565</td>\n      <td>176.0</td>\n      <td>Соревновательный анализ данных</td>\n      <td>0.0</td>\n    </tr>\n  </tbody>\n</table>\n<p>361 rows × 16 columns</p>\n</div>"
     },
     "execution_count": 32,
     "metadata": {},
     "output_type": "execute_result"
    }
   ],
   "source": [
    "for key in a.columns:\n",
    "    if a[key].dtype != a.fall_1.dtype:\n",
    "        a[key] = a[key].fillna(0)\n",
    "    else:\n",
    "        a[key] = a[key].fillna('')\n",
    "\n",
    "a"
   ]
  },
  {
   "cell_type": "markdown",
   "metadata": {
    "pycharm": {
     "name": "#%% md\n"
    }
   },
   "source": [
    "#### 4. Посмотрите повнимательнее на колонку 'is_first_time'. \n",
    "\n",
    "Есть ли в ней ответы \"Нет\"? Сколько их?\n",
    "\n",
    "Если найдешь повторные обращения студентов, оставь только самую позднюю версию. "
   ]
  },
  {
   "cell_type": "code",
   "execution_count": 12,
   "metadata": {
    "pycharm": {
     "name": "#%%\n"
    }
   },
   "outputs": [
    {
     "data": {
      "text/plain": "51"
     },
     "execution_count": 12,
     "metadata": {},
     "output_type": "execute_result"
    }
   ],
   "source": [
    "b = a\n",
    "b.id.drop_duplicates\n",
    "(b.is_first_time == \"Нет\").sum()\n"
   ]
  },
  {
   "cell_type": "markdown",
   "metadata": {
    "pycharm": {
     "name": "#%% md\n"
    }
   },
   "source": [
    "#### 5. Какие  blended-курсы для челиков существуют? На какой blended-курс записалось наибольшее количество студентов? На каком из курсов собрались студенты с самым высоким средним рейтингом? "
   ]
  },
  {
   "cell_type": "code",
   "execution_count": 31,
   "metadata": {
    "pycharm": {
     "name": "#%%\n"
    }
   },
   "outputs": [
    {
     "name": "stdout",
     "output_type": "stream",
     "text": [
      "DevOps 91 1147.0\n",
      "Введение в дифференциальную геометрию 15 1201.0\n",
      "Соревновательный анализ данных 32 1157.0\n",
      "Максимальное кол во студентов ['DevOps', 91, 1147.0] Высокий рейтинг ['Введение в дифференциальную геометрию', 15, 1201.0]\n"
     ]
    }
   ],
   "source": [
    "g = []\n",
    "b = a.blended.unique().tolist()[1:]\n",
    "for i in b:\n",
    "    print(i, (a.blended == i).sum(), a.rating[a['blended'] == i].median())\n",
    "    g.append([i, (a.blended == i).sum(), a.rating[a['blended'] == i].median()])\n",
    "print(f\"Максимальное кол во студентов {max(g, key=lambda x: x[1])} Высокий рейтинг {max(g, key=lambda x: x[2])}\")\n"
   ]
  },
  {
   "cell_type": "markdown",
   "metadata": {
    "pycharm": {
     "name": "#%% md\n"
    }
   },
   "source": [
    "6. Выясни, есть ли в данных студенты с абсолютно одинаковыми предпочтениями по всем курсам (не забудь учесть blended-курсы для студентов). Сколько таких наборов, которые взяли несколько студентов? Выведи их все вместе с количеством выбравших их студентов."
   ]
  },
  {
   "cell_type": "code",
   "execution_count": 52,
   "metadata": {
    "pycharm": {
     "name": "#%%\n"
    }
   },
   "outputs": [
    {
     "name": "stdout",
     "output_type": "stream",
     "text": [
      "0\n",
      "timestamp               2020-05-15 01:12:50.543000\n",
      "id                93ff79a51cd602f1dd3028ba2c129503\n",
      "rating                                         698\n",
      "18_group                                     181.0\n",
      "is_mi                                          0.0\n",
      "fall_1                                    Язык SQL\n",
      "fall_2           Высокопроизводительные вычисления\n",
      "fall_3                        Матричные вычисления\n",
      "spring_1                    Дискретная оптимизация\n",
      "spring_2                          Численные методы\n",
      "spring_3                       Машинное обучение 2\n",
      "is_first_time                                   Да\n",
      "percentile                                0.183857\n",
      "17_group                                       0.0\n",
      "blended                                           \n",
      "is_ml_student                                  0.0\n",
      "Name: 0, dtype: object\n"
     ]
    },
    {
     "ename": "KeyError",
     "evalue": "0",
     "output_type": "error",
     "traceback": [
      "\u001B[1;31m---------------------------------------------------------------------------\u001B[0m",
      "\u001B[1;31mKeyError\u001B[0m                                  Traceback (most recent call last)",
      "File \u001B[1;32m~\\PycharmProjects\\Ml\\venv\\lib\\site-packages\\pandas\\core\\indexes\\base.py:3803\u001B[0m, in \u001B[0;36mIndex.get_loc\u001B[1;34m(self, key, method, tolerance)\u001B[0m\n\u001B[0;32m   3802\u001B[0m \u001B[38;5;28;01mtry\u001B[39;00m:\n\u001B[1;32m-> 3803\u001B[0m     \u001B[38;5;28;01mreturn\u001B[39;00m \u001B[38;5;28;43mself\u001B[39;49m\u001B[38;5;241;43m.\u001B[39;49m\u001B[43m_engine\u001B[49m\u001B[38;5;241;43m.\u001B[39;49m\u001B[43mget_loc\u001B[49m\u001B[43m(\u001B[49m\u001B[43mcasted_key\u001B[49m\u001B[43m)\u001B[49m\n\u001B[0;32m   3804\u001B[0m \u001B[38;5;28;01mexcept\u001B[39;00m \u001B[38;5;167;01mKeyError\u001B[39;00m \u001B[38;5;28;01mas\u001B[39;00m err:\n",
      "File \u001B[1;32m~\\PycharmProjects\\Ml\\venv\\lib\\site-packages\\pandas\\_libs\\index.pyx:138\u001B[0m, in \u001B[0;36mpandas._libs.index.IndexEngine.get_loc\u001B[1;34m()\u001B[0m\n",
      "File \u001B[1;32m~\\PycharmProjects\\Ml\\venv\\lib\\site-packages\\pandas\\_libs\\index.pyx:165\u001B[0m, in \u001B[0;36mpandas._libs.index.IndexEngine.get_loc\u001B[1;34m()\u001B[0m\n",
      "File \u001B[1;32mpandas\\_libs\\hashtable_class_helper.pxi:5745\u001B[0m, in \u001B[0;36mpandas._libs.hashtable.PyObjectHashTable.get_item\u001B[1;34m()\u001B[0m\n",
      "File \u001B[1;32mpandas\\_libs\\hashtable_class_helper.pxi:5753\u001B[0m, in \u001B[0;36mpandas._libs.hashtable.PyObjectHashTable.get_item\u001B[1;34m()\u001B[0m\n",
      "\u001B[1;31mKeyError\u001B[0m: 0",
      "\nThe above exception was the direct cause of the following exception:\n",
      "\u001B[1;31mKeyError\u001B[0m                                  Traceback (most recent call last)",
      "Cell \u001B[1;32mIn [52], line 8\u001B[0m\n\u001B[0;32m      6\u001B[0m     \u001B[38;5;28;01mexcept\u001B[39;00m \u001B[38;5;167;01mBaseException\u001B[39;00m:\n\u001B[0;32m      7\u001B[0m         \u001B[38;5;28;01mpass\u001B[39;00m\n\u001B[1;32m----> 8\u001B[0m \u001B[43ma\u001B[49m\u001B[43m[\u001B[49m\u001B[38;5;241;43m0\u001B[39;49m\u001B[43m]\u001B[49m\n",
      "File \u001B[1;32m~\\PycharmProjects\\Ml\\venv\\lib\\site-packages\\pandas\\core\\frame.py:3804\u001B[0m, in \u001B[0;36mDataFrame.__getitem__\u001B[1;34m(self, key)\u001B[0m\n\u001B[0;32m   3802\u001B[0m \u001B[38;5;28;01mif\u001B[39;00m \u001B[38;5;28mself\u001B[39m\u001B[38;5;241m.\u001B[39mcolumns\u001B[38;5;241m.\u001B[39mnlevels \u001B[38;5;241m>\u001B[39m \u001B[38;5;241m1\u001B[39m:\n\u001B[0;32m   3803\u001B[0m     \u001B[38;5;28;01mreturn\u001B[39;00m \u001B[38;5;28mself\u001B[39m\u001B[38;5;241m.\u001B[39m_getitem_multilevel(key)\n\u001B[1;32m-> 3804\u001B[0m indexer \u001B[38;5;241m=\u001B[39m \u001B[38;5;28;43mself\u001B[39;49m\u001B[38;5;241;43m.\u001B[39;49m\u001B[43mcolumns\u001B[49m\u001B[38;5;241;43m.\u001B[39;49m\u001B[43mget_loc\u001B[49m\u001B[43m(\u001B[49m\u001B[43mkey\u001B[49m\u001B[43m)\u001B[49m\n\u001B[0;32m   3805\u001B[0m \u001B[38;5;28;01mif\u001B[39;00m is_integer(indexer):\n\u001B[0;32m   3806\u001B[0m     indexer \u001B[38;5;241m=\u001B[39m [indexer]\n",
      "File \u001B[1;32m~\\PycharmProjects\\Ml\\venv\\lib\\site-packages\\pandas\\core\\indexes\\base.py:3805\u001B[0m, in \u001B[0;36mIndex.get_loc\u001B[1;34m(self, key, method, tolerance)\u001B[0m\n\u001B[0;32m   3803\u001B[0m     \u001B[38;5;28;01mreturn\u001B[39;00m \u001B[38;5;28mself\u001B[39m\u001B[38;5;241m.\u001B[39m_engine\u001B[38;5;241m.\u001B[39mget_loc(casted_key)\n\u001B[0;32m   3804\u001B[0m \u001B[38;5;28;01mexcept\u001B[39;00m \u001B[38;5;167;01mKeyError\u001B[39;00m \u001B[38;5;28;01mas\u001B[39;00m err:\n\u001B[1;32m-> 3805\u001B[0m     \u001B[38;5;28;01mraise\u001B[39;00m \u001B[38;5;167;01mKeyError\u001B[39;00m(key) \u001B[38;5;28;01mfrom\u001B[39;00m \u001B[38;5;21;01merr\u001B[39;00m\n\u001B[0;32m   3806\u001B[0m \u001B[38;5;28;01mexcept\u001B[39;00m \u001B[38;5;167;01mTypeError\u001B[39;00m:\n\u001B[0;32m   3807\u001B[0m     \u001B[38;5;66;03m# If we have a listlike key, _check_indexing_error will raise\u001B[39;00m\n\u001B[0;32m   3808\u001B[0m     \u001B[38;5;66;03m#  InvalidIndexError. Otherwise we fall through and re-raise\u001B[39;00m\n\u001B[0;32m   3809\u001B[0m     \u001B[38;5;66;03m#  the TypeError.\u001B[39;00m\n\u001B[0;32m   3810\u001B[0m     \u001B[38;5;28mself\u001B[39m\u001B[38;5;241m.\u001B[39m_check_indexing_error(key)\n",
      "\u001B[1;31mKeyError\u001B[0m: 0"
     ]
    }
   ],
   "source": []
  },
  {
   "cell_type": "code",
   "execution_count": 85,
   "outputs": [
    {
     "data": {
      "text/plain": "4199.0"
     },
     "execution_count": 85,
     "metadata": {},
     "output_type": "execute_result"
    }
   ],
   "source": [
    "(a[\"17_group\"][(a.fall_1 == 'Высокопроизводительные вычисления') & (a[\"17_group\"] != 0.0)]).sum()"
   ],
   "metadata": {
    "collapsed": false,
    "pycharm": {
     "name": "#%%\n"
    }
   }
  },
  {
   "cell_type": "markdown",
   "metadata": {
    "pycharm": {
     "name": "#%% md\n"
    }
   },
   "source": [
    "#### 7. Найди курсы предметов за первую осень, на которые записывались как студенты 18-го года набора, так и студенты 17-го года."
   ]
  },
  {
   "cell_type": "code",
   "execution_count": 88,
   "metadata": {
    "pycharm": {
     "name": "#%%\n"
    }
   },
   "outputs": [
    {
     "name": "stdout",
     "output_type": "stream",
     "text": [
      "Высокопроизводительные вычисления\n",
      "Безопасность компьютерных систем\n",
      "Statistical Learning Theory\n",
      "Принятие решений в условиях риска и неопределённости\n",
      "Сбор и обработка данных с помощью краудсорсинга\n",
      "Моделирование временных рядов\n"
     ]
    }
   ],
   "source": [
    "b = a.fall_1.unique().tolist()[1:]\n",
    "for i in b:\n",
    "    if ((a[\"18_group\"][(a.fall_1 == i) & a[\"18_group\"] != 0.0]).sum() != 0 and (a[\"17_group\"][(a.fall_1 == i) & (a[\"17_group\"] != 0.0)]).sum() != 0):\n",
    "        print(i)\n",
    "\n"
   ]
  },
  {
   "cell_type": "markdown",
   "metadata": {
    "pycharm": {
     "name": "#%% md\n"
    }
   },
   "source": [
    "Методом исключения (или аналогичным образом как до этого) найди курсы, которые предлагались только студентам 18-го года и только студентам 17-го года."
   ]
  },
  {
   "cell_type": "code",
   "execution_count": 93,
   "metadata": {
    "pycharm": {
     "name": "#%%\n"
    }
   },
   "outputs": [
    {
     "name": "stdout",
     "output_type": "stream",
     "text": [
      "Теория баз данных\n",
      "Матричные вычисления\n",
      "Глубинное обучение в обработке звука\n",
      "Анализ неструктурированных данных\n",
      "Байесовские методы машинного обучения\n"
     ]
    }
   ],
   "source": [
    "for i in b:\n",
    "    if not all([(a[\"18_group\"][(a.fall_1 == i) & a[\"18_group\"] != 0.0]).sum() != 0, (a[\"17_group\"][(a.fall_1 == i) & (a[\"17_group\"] != 0.0)]).sum() != 0]) and any([(a[\"18_group\"][(a.fall_1 == i) & a[\"18_group\"] != 0.0]).sum() != 0, (a[\"17_group\"][(a.fall_1 == i) & (a[\"17_group\"] != 0.0)]).sum() != 0]) :\n",
    "        print(i)\n"
   ]
  },
  {
   "cell_type": "markdown",
   "metadata": {
    "pycharm": {
     "name": "#%% md\n"
    }
   },
   "source": [
    "### Доп. задание: визуализации и matplotlib"
   ]
  },
  {
   "cell_type": "markdown",
   "metadata": {
    "pycharm": {
     "name": "#%% md\n"
    }
   },
   "source": [
    "При работе с данными часто неудобно делать какие-то выводы, если смотреть на таблицу и числа в частности, поэтому важно уметь визуализировать данные. Здесь будут описаны основные оформления различных графиков. Да и вообще лучше нормально оформлять, а то потом ваш коллега вам по жопе настучит за какие-то шизоидные чертежи которые бог знает что означают.\n",
    "\n",
    "У matplotlib, конечно же, есть [документация](https://matplotlib.org/users/index.html) с большим количеством [примеров](https://matplotlib.org/examples/), но для начала достаточно знать про несколько основных типов графиков:\n",
    "- plot — обычный поточечный график, которым можно изображать кривые или отдельные точки;\n",
    "- hist — гистограмма, показывающая распределение некоторой величины;\n",
    "- scatter — график, показывающий взаимосвязь двух величин;\n",
    "- bar — столбцовый график, показывающий взаимосвязь количественной величины от категориальной.\n",
    "\n",
    "В этом задании тебе, мой друг, предстоит попробовать построить один из них. Не забудь про базовые принципы построения приличных графиков:\n",
    "- оси должны быть подписаны, причём не слишком мелко;\n",
    "- у графика должно быть название;\n",
    "- если изображено несколько графиков, то необходима поясняющая легенда;\n",
    "- все линии на графиках должны быть чётко видны (нет похожих цветов или цветов, сливающихся с фоном);\n",
    "- если отображена величина, имеющая очевидный диапазон значений (например, проценты могут быть от 0 до 100), то желательно масштабировать ось на весь диапазон значений (исключением является случай, когда вам необходимо показать малое отличие, которое незаметно в таких масштабах);\n",
    "- сетка на графике помогает оценить значения в точках на глаз, это обычно полезно, поэтому лучше ее отрисовывать;\n",
    "- если распределение на гистограмме имеет тяжёлые хвосты, лучше использовать логарифмическую шкалу."
   ]
  },
  {
   "cell_type": "code",
   "execution_count": 1,
   "metadata": {
    "pycharm": {
     "name": "#%%\n"
    }
   },
   "outputs": [],
   "source": [
    "%matplotlib inline\n",
    "import matplotlib.pyplot as plt"
   ]
  },
  {
   "cell_type": "markdown",
   "metadata": {
    "pycharm": {
     "name": "#%% md\n"
    }
   },
   "source": [
    "Еще одна библиотека для визуализации: [seaborn](https://jakevdp.github.io/PythonDataScienceHandbook/04.14-visualization-with-seaborn.html). Это настройка над matplotlib, иногда удобнее и красивее делать визуализации через неё. "
   ]
  },
  {
   "cell_type": "code",
   "execution_count": 38,
   "metadata": {
    "pycharm": {
     "name": "#%%\n"
    }
   },
   "outputs": [],
   "source": [
    "import seaborn as sns"
   ]
  },
  {
   "cell_type": "markdown",
   "metadata": {
    "pycharm": {
     "name": "#%% md\n"
    }
   },
   "source": [
    "#### 8. Построй график средних рейтингов по дням получения ответов (bar plot). Сохрани график в формате pdf (так он останется векторизованным, а значит не будет терять качество при масштабировании и вообще красивенько всё будет)."
   ]
  },
  {
   "cell_type": "code",
   "execution_count": null,
   "metadata": {
    "pycharm": {
     "name": "#%%\n"
    }
   },
   "outputs": [],
   "source": [
    "# your code"
   ]
  },
  {
   "cell_type": "markdown",
   "metadata": {
    "pycharm": {
     "name": "#%% md\n"
    }
   },
   "source": [
    "Небольшая провер очка\n",
    "\n",
    "Здесь ты можешь увидеть, успешно ли ты выполнил некоторые задания первой части, и проверить ваши данные на наличие пропусков и повторов:"
   ]
  },
  {
   "cell_type": "code",
   "execution_count": 478,
   "metadata": {
    "pycharm": {
     "name": "#%%\n"
    }
   },
   "outputs": [],
   "source": [
    "# df здесь - твой результирующий датафрейм\n",
    "\n",
    "assert df.shape[0] == 347, 'В таблице остались повторы или потеряны данные'\n",
    "\n",
    "assert df.isna().sum().sum() == 0, 'В таблице остались пропуски'"
   ]
  },
  {
   "cell_type": "markdown",
   "metadata": {
    "pycharm": {
     "name": "#%% md\n"
    }
   },
   "source": [
    "Если ты не получил AssertionError, то ты крутой!\n",
    "А вообще если ты осилил эти все задания, то не стесняйся на досуге залить своё творение в репозиторий и сообщить об этом кому-нибудь из ведущих курса."
   ]
  },
  {
   "cell_type": "markdown",
   "metadata": {
    "pycharm": {
     "name": "#%% md\n"
    }
   },
   "source": [
    "Вставьте картинку или гифку, описывающую ваше состояние в момент выполнения этого задания:"
   ]
  },
  {
   "cell_type": "markdown",
   "metadata": {
    "pycharm": {
     "name": "#%% md\n"
    }
   },
   "source": []
  }
 ],
 "metadata": {
  "kernelspec": {
   "display_name": "Python 3",
   "language": "python",
   "name": "python3"
  },
  "language_info": {
   "codemirror_mode": {
    "name": "ipython",
    "version": 3
   },
   "file_extension": ".py",
   "mimetype": "text/x-python",
   "name": "python",
   "nbconvert_exporter": "python",
   "pygments_lexer": "ipython3",
   "version": "3.9.10"
  }
 },
 "nbformat": 4,
 "nbformat_minor": 2
}